{
 "cells": [
  {
   "cell_type": "code",
   "execution_count": 0,
   "metadata": {
    "application/vnd.databricks.v1+cell": {
     "cellMetadata": {
      "byteLimit": 2048000,
      "rowLimit": 10000
     },
     "inputWidgets": {},
     "nuid": "4ab0d4cd-026e-4610-a74c-2d4eb22027ce",
     "showTitle": false,
     "tableResultSettingsMap": {},
     "title": ""
    }
   },
   "outputs": [
    {
     "output_type": "stream",
     "name": "stdout",
     "output_type": "stream",
     "text": [
      "Requirement already satisfied: scapy in /local_disk0/.ephemeral_nfs/envs/pythonEnv-61fa260c-0c93-4c97-a508-3b1d5a21c8f3/lib/python3.11/site-packages (2.6.1)\n\u001B[43mNote: you may need to restart the kernel using %restart_python or dbutils.library.restartPython() to use updated packages.\u001B[0m\n"
     ]
    }
   ],
   "source": [
    "%pip install scapy"
   ]
  },
  {
   "cell_type": "code",
   "execution_count": 0,
   "metadata": {
    "application/vnd.databricks.v1+cell": {
     "cellMetadata": {
      "byteLimit": 2048000,
      "rowLimit": 10000
     },
     "inputWidgets": {},
     "nuid": "2b6bd667-4845-49f1-8960-90fcb1f6a9a5",
     "showTitle": false,
     "tableResultSettingsMap": {},
     "title": ""
    }
   },
   "outputs": [],
   "source": [
    "%restart_python"
   ]
  },
  {
   "cell_type": "code",
   "execution_count": 0,
   "metadata": {
    "application/vnd.databricks.v1+cell": {
     "cellMetadata": {
      "byteLimit": 2048000,
      "rowLimit": 10000
     },
     "inputWidgets": {},
     "nuid": "ca0602e7-0c6e-470b-b9d0-ea1f0ac9b1fd",
     "showTitle": false,
     "tableResultSettingsMap": {},
     "title": ""
    }
   },
   "outputs": [
    {
     "output_type": "stream",
     "name": "stdout",
     "output_type": "stream",
     "text": [
      "Packet 1\n  Length: 62\n  Transport Layer: IP\n  Transport Layer: TCP\n  Summary: Ether / IP / TCP 145.254.160.237:3372 > 65.208.228.223:http S\n----------------------------------------\nPacket 2\n  Length: 62\n  Transport Layer: IP\n  Transport Layer: TCP\n  Summary: Ether / IP / TCP 65.208.228.223:http > 145.254.160.237:3372 SA\n----------------------------------------\nPacket 3\n  Length: 54\n  Transport Layer: IP\n  Transport Layer: TCP\n  Summary: Ether / IP / TCP 145.254.160.237:3372 > 65.208.228.223:http A\n----------------------------------------\nPacket 4\n  Length: 533\n  Transport Layer: IP\n  Transport Layer: TCP\n  Application Layer: HTTP\n  Summary: Ether / IP / TCP 145.254.160.237:3372 > 65.208.228.223:http PA / Raw\n----------------------------------------\nPacket 5\n  Length: 54\n  Transport Layer: IP\n  Transport Layer: TCP\n  Summary: Ether / IP / TCP 65.208.228.223:http > 145.254.160.237:3372 A\n----------------------------------------\n"
     ]
    }
   ],
   "source": [
    "from scapy.all import rdpcap, IP, TCP\n",
    "\n",
    "# Load the capture\n",
    "packets = rdpcap(\"/Volumes/sample3/default/http_cap/http (2).cap\")\n",
    "\n",
    "# Analyze first 5 packets\n",
    "for i, pkt in enumerate(packets[:5]):\n",
    "    print(f\"Packet {i+1}\")\n",
    "    print(f\"  Length: {len(pkt)}\")\n",
    "    \n",
    "    # Check and print layers\n",
    "    if IP in pkt:\n",
    "        print(\"  Transport Layer: IP\")\n",
    "    if TCP in pkt:\n",
    "        print(\"  Transport Layer: TCP\")\n",
    "    if pkt.haslayer('Raw') and b\"HTTP\" in bytes(pkt['Raw']):\n",
    "        print(\"  Application Layer: HTTP\")\n",
    "    \n",
    "    print(f\"  Summary: {pkt.summary()}\")\n",
    "    print(\"-\"*40)"
   ]
  },
  {
   "cell_type": "code",
   "execution_count": 0,
   "metadata": {
    "application/vnd.databricks.v1+cell": {
     "cellMetadata": {
      "byteLimit": 2048000,
      "rowLimit": 10000
     },
     "inputWidgets": {},
     "nuid": "16603e62-3e1d-411e-9ce7-57eff37cccea",
     "showTitle": false,
     "tableResultSettingsMap": {},
     "title": ""
    }
   },
   "outputs": [
    {
     "output_type": "display_data",
     "data": {
      "text/html": [
       "<style scoped>\n",
       "  .table-result-container {\n",
       "    max-height: 300px;\n",
       "    overflow: auto;\n",
       "  }\n",
       "  table, th, td {\n",
       "    border: 1px solid black;\n",
       "    border-collapse: collapse;\n",
       "  }\n",
       "  th, td {\n",
       "    padding: 5px;\n",
       "  }\n",
       "  th {\n",
       "    text-align: left;\n",
       "  }\n",
       "</style><div class='table-result-container'><table class='table-result'><thead style='background-color: white'><tr><th>Source IP</th><th>Packet Count</th></tr></thead><tbody><tr><td>145.254.160.237</td><td>20</td></tr><tr><td>65.208.228.223</td><td>18</td></tr><tr><td>216.239.59.99</td><td>4</td></tr><tr><td>145.253.2.203</td><td>1</td></tr></tbody></table></div>"
      ]
     },
     "metadata": {
      "application/vnd.databricks.v1+output": {
       "addedWidgets": {},
       "aggData": [],
       "aggError": "",
       "aggOverflow": false,
       "aggSchema": [],
       "aggSeriesLimitReached": false,
       "aggType": "",
       "arguments": {},
       "columnCustomDisplayInfos": {},
       "data": [
        [
         "145.254.160.237",
         20
        ],
        [
         "65.208.228.223",
         18
        ],
        [
         "216.239.59.99",
         4
        ],
        [
         "145.253.2.203",
         1
        ]
       ],
       "datasetInfos": [],
       "dbfsResultPath": null,
       "isJsonSchema": true,
       "metadata": {},
       "overflow": false,
       "plotOptions": {
        "customPlotOptions": {},
        "displayType": "table",
        "pivotAggregation": null,
        "pivotColumns": null,
        "xColumns": null,
        "yColumns": null
       },
       "removedWidgets": [],
       "schema": [
        {
         "metadata": "{}",
         "name": "Source IP",
         "type": "\"string\""
        },
        {
         "metadata": "{}",
         "name": "Packet Count",
         "type": "\"long\""
        }
       ],
       "type": "table"
      }
     },
     "output_type": "display_data"
    }
   ],
   "source": [
    "from collections import Counter\n",
    "from scapy.all import rdpcap, IP\n",
    "\n",
    "packets = rdpcap(\"/Volumes/sample3/default/http_cap/http (2).cap\")\n",
    "\n",
    "ip_counts = Counter(pkt[IP].src for pkt in packets if IP in pkt)\n",
    "\n",
    "top_5_ips = ip_counts.most_common(5)\n",
    "\n",
    "import pandas as pd\n",
    "\n",
    "df = pd.DataFrame(top_5_ips, columns=[\"Source IP\", \"Packet Count\"])\n",
    "display(df)"
   ]
  },
  {
   "cell_type": "code",
   "execution_count": 0,
   "metadata": {
    "application/vnd.databricks.v1+cell": {
     "cellMetadata": {
      "byteLimit": 2048000,
      "rowLimit": 10000
     },
     "inputWidgets": {},
     "nuid": "a933f385-e4ac-458d-88b7-74f730a57635",
     "showTitle": false,
     "tableResultSettingsMap": {},
     "title": ""
    }
   },
   "outputs": [
    {
     "output_type": "stream",
     "name": "stdout",
     "output_type": "stream",
     "text": [
      "Visited URLs:\nhttp://www.ethereal.com/download.html\nhttp://pagead2.googlesyndication.com/pagead/ads?client=ca-pub-2309191948673629&random=1084443430285&lmt=1082467020&format=468x60_as&output=html&url=http%3A%2F%2Fwww.ethereal.com%2Fdownload.html&color_bg=FFFFFF&color_text=333333&color_link=000000&color_url=666633&color_border=666633\n"
     ]
    }
   ],
   "source": [
    "from scapy.all import rdpcap, TCP\n",
    "\n",
    "packets = rdpcap(\"/Volumes/sample3/default/http_cap/http (2).cap\")\n",
    "\n",
    "print(\"Visited URLs:\")\n",
    "for pkt in packets:\n",
    "    if pkt.haslayer(TCP) and pkt.haslayer('Raw'):\n",
    "        payload = pkt['Raw'].load\n",
    "        if b\"GET\" in payload or b\"POST\" in payload:\n",
    "            try:\n",
    "                lines = payload.split(b\"\\r\\n\")\n",
    "                host_line = next(line for line in lines if b\"Host:\" in line)\n",
    "                uri_line = lines[0]\n",
    "                host = host_line.split(b\":\")[1].strip().decode()\n",
    "                uri = uri_line.split(b\" \")[1].decode()\n",
    "                print(f\"http://{host}{uri}\")\n",
    "            except:\n",
    "                continue"
   ]
  },
  {
   "cell_type": "code",
   "execution_count": 0,
   "metadata": {
    "application/vnd.databricks.v1+cell": {
     "cellMetadata": {
      "byteLimit": 2048000,
      "rowLimit": 10000
     },
     "inputWidgets": {},
     "nuid": "386d2173-aca8-4944-9fe1-c403a4bf3b24",
     "showTitle": false,
     "tableResultSettingsMap": {},
     "title": ""
    }
   },
   "outputs": [
    {
     "output_type": "stream",
     "name": "stdout",
     "output_type": "stream",
     "text": [
      "Top 10 Queried Domains:\ngoogle.com: 3 times\nwww.netbsd.org: 3 times\nGRIMM.utelsystems.local: 2 times\n104.9.192.66.in-addr.arpa: 1 times\nwww.google.com: 1 times\nwww.l.google.com: 1 times\nwww.example.com: 1 times\nwww.example.notginh: 1 times\nwww.isc.org: 1 times\n1.0.0.127.in-addr.arpa: 1 times\n"
     ]
    }
   ],
   "source": [
    "from scapy.all import rdpcap, DNS, DNSQR\n",
    "from collections import Counter\n",
    "\n",
    "# Load the capture file\n",
    "packets = rdpcap(\"/Volumes/sample4/default/dns_cap/dns (2).cap\")\n",
    "\n",
    "# Counter for domain names\n",
    "domain_counter = Counter()\n",
    "\n",
    "# Iterate over packets\n",
    "for pkt in packets:\n",
    "    if pkt.haslayer(DNS) and pkt.getlayer(DNS).qr == 0:  # qr=0 means it's a query\n",
    "        query = pkt.getlayer(DNSQR)\n",
    "        if query:\n",
    "            domain = query.qname.decode().strip('.')\n",
    "            domain_counter[domain] += 1\n",
    "\n",
    "# Print top 10 queried domains\n",
    "print(\"Top 10 Queried Domains:\")\n",
    "for domain, count in domain_counter.most_common(10):\n",
    "    print(f\"{domain}: {count} times\")"
   ]
  }
 ],
 "metadata": {
  "application/vnd.databricks.v1+notebook": {
   "computePreferences": null,
   "dashboards": [],
   "environmentMetadata": {
    "base_environment": "",
    "environment_version": "2"
   },
   "inputWidgetPreferences": null,
   "language": "python",
   "notebookMetadata": {
    "pythonIndentUnit": 4
   },
   "notebookName": "Network_Traffic_Analysis2025-07-22 18:50:4",
   "widgets": {}
  },
  "language_info": {
   "name": "python"
  }
 },
 "nbformat": 4,
 "nbformat_minor": 0
}