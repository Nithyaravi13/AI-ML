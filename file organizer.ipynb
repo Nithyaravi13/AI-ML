{
 "cells": [
  {
   "cell_type": "code",
   "execution_count": 6,
   "id": "bb4521a3-7831-403f-9b46-e4537555db41",
   "metadata": {},
   "outputs": [],
   "source": [
    "import os\n",
    "import shutil"
   ]
  },
  {
   "cell_type": "code",
   "execution_count": 7,
   "id": "179c8b59-6530-4176-9037-3c1b384e28a4",
   "metadata": {},
   "outputs": [],
   "source": [
    "def organize_files(folder_path):\n",
    "    for filename in os.listdir(folder_path):\n",
    "        file_path = os.path.join(folder_path, filename)\n",
    "        if os.path.isfile(file_path):\n",
    "            _, ext = os.path.splitext(filename)\n",
    "            ext = ext[1:].upper()  \n",
    "            if not ext:\n",
    "                continue\n",
    "            dest_folder = os.path.join(folder_path, ext)\n",
    "            os.makedirs(dest_folder, exist_ok=True)\n",
    "            shutil.move(file_path, os.path.join(dest_folder, filename))\n"
   ]
  },
  {
   "cell_type": "code",
   "execution_count": 11,
   "id": "55c58166-0269-4faf-8be6-41577db56bb3",
   "metadata": {},
   "outputs": [],
   "source": [
    "organize_files(r\"C:\\Users\\nithy\\Downloads\")"
   ]
  },
  {
   "cell_type": "code",
   "execution_count": null,
   "id": "f27eb5e4-954a-4db9-aefd-ffd99981d24b",
   "metadata": {},
   "outputs": [],
   "source": []
  }
 ],
 "metadata": {
  "kernelspec": {
   "display_name": "Python [conda env:base] *",
   "language": "python",
   "name": "conda-base-py"
  },
  "language_info": {
   "codemirror_mode": {
    "name": "ipython",
    "version": 3
   },
   "file_extension": ".py",
   "mimetype": "text/x-python",
   "name": "python",
   "nbconvert_exporter": "python",
   "pygments_lexer": "ipython3",
   "version": "3.13.5"
  }
 },
 "nbformat": 4,
 "nbformat_minor": 5
}
