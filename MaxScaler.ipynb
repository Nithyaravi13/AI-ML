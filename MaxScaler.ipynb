{
 "cells": [
  {
   "cell_type": "code",
   "execution_count": 18,
   "id": "8c3bcc56-ca51-4093-a5e1-5152ded5ce49",
   "metadata": {},
   "outputs": [
    {
     "name": "stdout",
     "output_type": "stream",
     "text": [
      "          Doc1      Doc2  Doc3\n",
      "Doc1  1.000000  0.194924   0.0\n",
      "Doc2  0.194924  1.000000   0.0\n",
      "Doc3  0.000000  0.000000   1.0\n"
     ]
    }
   ],
   "source": [
    "from sklearn.feature_extraction.text import TfidfVectorizer\n",
    "from sklearn.metrics.pairwise import cosine_similarity\n",
    "import pandas as pd\n",
    "\n",
    "# Example documents\n",
    "docs = [\"I love Python\", \"Python is great for data science\", \"I enjoy machine learning\"]\n",
    "\n",
    "# Step 1: Create TF-IDF matrix\n",
    "vectorizer = TfidfVectorizer()\n",
    "tfidf_matrix = vectorizer.fit_transform(docs)\n",
    "\n",
    "# Step 2: Compute cosine similarity\n",
    "similarity = cosine_similarity(tfidf_matrix)\n",
    "\n",
    "# Step 3: Create DataFrame\n",
    "df = pd.DataFrame(similarity, columns=[\"Doc1\", \"Doc2\", \"Doc3\"], index=[\"Doc1\", \"Doc2\", \"Doc3\"])\n",
    "\n",
    "# Display the similarity matrix\n",
    "print(df)\n"
   ]
  },
  {
   "cell_type": "code",
   "execution_count": null,
   "id": "9e814b6e-581e-4889-8fd0-3b556d5fc0f0",
   "metadata": {},
   "outputs": [],
   "source": []
  }
 ],
 "metadata": {
  "kernelspec": {
   "display_name": "Python 3 (ipykernel)",
   "language": "python",
   "name": "python3"
  },
  "language_info": {
   "codemirror_mode": {
    "name": "ipython",
    "version": 3
   },
   "file_extension": ".py",
   "mimetype": "text/x-python",
   "name": "python",
   "nbconvert_exporter": "python",
   "pygments_lexer": "ipython3",
   "version": "3.13.5"
  }
 },
 "nbformat": 4,
 "nbformat_minor": 5
}
