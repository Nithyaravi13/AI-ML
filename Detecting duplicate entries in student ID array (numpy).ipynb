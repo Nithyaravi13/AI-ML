{
 "cells": [
  {
   "cell_type": "code",
   "execution_count": 25,
   "id": "e0a69140-c6e1-44ef-bc48-1bc43c69049e",
   "metadata": {},
   "outputs": [],
   "source": [
    "import numpy as np"
   ]
  },
  {
   "cell_type": "code",
   "execution_count": 26,
   "id": "ab361350-2581-4f3e-8365-d669eb73d790",
   "metadata": {},
   "outputs": [],
   "source": [
    "def replace_duplicates_with_true(arr):\n",
    "    seen = set()\n",
    "    result = []\n",
    "    for x in arr:\n",
    "        if x in seen:\n",
    "            result.append(True)  # Repeated id -> True\n",
    "        else:\n",
    "            seen.add(x)\n",
    "            result.append(False)  # First occurrence -> False\n",
    "    return np.array(result)\n"
   ]
  },
  {
   "cell_type": "code",
   "execution_count": 27,
   "id": "c02cb3e4-d0a4-4513-97d8-9d40863f0463",
   "metadata": {},
   "outputs": [],
   "source": [
    "test_input = np.array([1, 0, 0, 3, 0, 2, 4, 2, 2, 2])"
   ]
  },
  {
   "cell_type": "code",
   "execution_count": 28,
   "id": "a3c0cbfe-4388-40b3-8664-ea7c8d1103c0",
   "metadata": {},
   "outputs": [],
   "source": [
    "output = replace_duplicates_with_true(test_input)"
   ]
  },
  {
   "cell_type": "code",
   "execution_count": 29,
   "id": "38742ba2-b8b8-49f5-af3c-6bc1bbae7d49",
   "metadata": {},
   "outputs": [
    {
     "name": "stdout",
     "output_type": "stream",
     "text": [
      "[False False  True False  True False False  True  True  True]\n"
     ]
    }
   ],
   "source": [
    "print(output)"
   ]
  },
  {
   "cell_type": "code",
   "execution_count": null,
   "id": "bd5a2f08-3437-41a8-b23f-66cd58a7ae4e",
   "metadata": {},
   "outputs": [],
   "source": []
  }
 ],
 "metadata": {
  "kernelspec": {
   "display_name": "Python [conda env:base] *",
   "language": "python",
   "name": "conda-base-py"
  },
  "language_info": {
   "codemirror_mode": {
    "name": "ipython",
    "version": 3
   },
   "file_extension": ".py",
   "mimetype": "text/x-python",
   "name": "python",
   "nbconvert_exporter": "python",
   "pygments_lexer": "ipython3",
   "version": "3.13.5"
  }
 },
 "nbformat": 4,
 "nbformat_minor": 5
}
