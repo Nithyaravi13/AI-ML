{
 "cells": [
  {
   "cell_type": "code",
   "execution_count": 60,
   "id": "5155d4df-b748-47e4-b03a-110ce075c328",
   "metadata": {},
   "outputs": [],
   "source": [
    "import numpy as np"
   ]
  },
  {
   "cell_type": "code",
   "execution_count": 61,
   "id": "ab809bb1-7b05-4ce4-a7a3-6512ee940fe3",
   "metadata": {},
   "outputs": [],
   "source": [
    "import pandas as pd"
   ]
  },
  {
   "cell_type": "code",
   "execution_count": 62,
   "id": "43448063-a6c2-4983-9989-d5bbcb6b0cfa",
   "metadata": {},
   "outputs": [],
   "source": [
    "np.random.seed(42)"
   ]
  },
  {
   "cell_type": "code",
   "execution_count": 63,
   "id": "cc0bca1d-67a0-46ad-8460-84bd1fccd52c",
   "metadata": {},
   "outputs": [],
   "source": [
    "employee= [f\"EMP_{i:03d}\" for i in range(1,31)]"
   ]
  },
  {
   "cell_type": "code",
   "execution_count": 64,
   "id": "101d9c8b-ca6b-4fb7-ab52-ef6766a25bd9",
   "metadata": {},
   "outputs": [],
   "source": [
    "dates = pd.date_range(start=\"2025-07-01\",periods=30,freq=\"D\")"
   ]
  },
  {
   "cell_type": "code",
   "execution_count": 65,
   "id": "7097a021-1151-4202-9ccb-fdfc218179f8",
   "metadata": {},
   "outputs": [
    {
     "data": {
      "text/plain": [
       "['EMP_001',\n",
       " 'EMP_002',\n",
       " 'EMP_003',\n",
       " 'EMP_004',\n",
       " 'EMP_005',\n",
       " 'EMP_006',\n",
       " 'EMP_007',\n",
       " 'EMP_008',\n",
       " 'EMP_009',\n",
       " 'EMP_010',\n",
       " 'EMP_011',\n",
       " 'EMP_012',\n",
       " 'EMP_013',\n",
       " 'EMP_014',\n",
       " 'EMP_015',\n",
       " 'EMP_016',\n",
       " 'EMP_017',\n",
       " 'EMP_018',\n",
       " 'EMP_019',\n",
       " 'EMP_020',\n",
       " 'EMP_021',\n",
       " 'EMP_022',\n",
       " 'EMP_023',\n",
       " 'EMP_024',\n",
       " 'EMP_025',\n",
       " 'EMP_026',\n",
       " 'EMP_027',\n",
       " 'EMP_028',\n",
       " 'EMP_029',\n",
       " 'EMP_030']"
      ]
     },
     "execution_count": 65,
     "metadata": {},
     "output_type": "execute_result"
    }
   ],
   "source": [
    "employee"
   ]
  },
  {
   "cell_type": "code",
   "execution_count": 66,
   "id": "39e75ad4-5f08-4a46-b88d-64681c70f59d",
   "metadata": {},
   "outputs": [],
   "source": [
    "data={\n",
    "    \"Date\":np.tile(dates,len(employee)),\n",
    "    \"employee\":np.repeat(employee,len(dates)),\n",
    "    \"working_hours\":np.random.normal(loc=30,scale=5,size=len(dates)*len(employee))\n",
    "}"
   ]
  },
  {
   "cell_type": "code",
   "execution_count": 67,
   "id": "d2dca617-99c6-4fc3-bd42-fe47d98763d0",
   "metadata": {},
   "outputs": [],
   "source": [
    "df=pd.DataFrame(data)"
   ]
  },
  {
   "cell_type": "code",
   "execution_count": 68,
   "id": "51567e40-b52e-447f-ad29-f436702d143d",
   "metadata": {},
   "outputs": [
    {
     "data": {
      "text/html": [
       "<div>\n",
       "<style scoped>\n",
       "    .dataframe tbody tr th:only-of-type {\n",
       "        vertical-align: middle;\n",
       "    }\n",
       "\n",
       "    .dataframe tbody tr th {\n",
       "        vertical-align: top;\n",
       "    }\n",
       "\n",
       "    .dataframe thead th {\n",
       "        text-align: right;\n",
       "    }\n",
       "</style>\n",
       "<table border=\"1\" class=\"dataframe\">\n",
       "  <thead>\n",
       "    <tr style=\"text-align: right;\">\n",
       "      <th></th>\n",
       "      <th>Date</th>\n",
       "      <th>employee</th>\n",
       "      <th>working_hours</th>\n",
       "    </tr>\n",
       "  </thead>\n",
       "  <tbody>\n",
       "    <tr>\n",
       "      <th>0</th>\n",
       "      <td>2025-07-01</td>\n",
       "      <td>EMP_001</td>\n",
       "      <td>32.483571</td>\n",
       "    </tr>\n",
       "    <tr>\n",
       "      <th>1</th>\n",
       "      <td>2025-07-02</td>\n",
       "      <td>EMP_001</td>\n",
       "      <td>29.308678</td>\n",
       "    </tr>\n",
       "    <tr>\n",
       "      <th>2</th>\n",
       "      <td>2025-07-03</td>\n",
       "      <td>EMP_001</td>\n",
       "      <td>33.238443</td>\n",
       "    </tr>\n",
       "    <tr>\n",
       "      <th>3</th>\n",
       "      <td>2025-07-04</td>\n",
       "      <td>EMP_001</td>\n",
       "      <td>37.615149</td>\n",
       "    </tr>\n",
       "    <tr>\n",
       "      <th>4</th>\n",
       "      <td>2025-07-05</td>\n",
       "      <td>EMP_001</td>\n",
       "      <td>28.829233</td>\n",
       "    </tr>\n",
       "    <tr>\n",
       "      <th>...</th>\n",
       "      <td>...</td>\n",
       "      <td>...</td>\n",
       "      <td>...</td>\n",
       "    </tr>\n",
       "    <tr>\n",
       "      <th>895</th>\n",
       "      <td>2025-07-26</td>\n",
       "      <td>EMP_030</td>\n",
       "      <td>33.243549</td>\n",
       "    </tr>\n",
       "    <tr>\n",
       "      <th>896</th>\n",
       "      <td>2025-07-27</td>\n",
       "      <td>EMP_030</td>\n",
       "      <td>29.164410</td>\n",
       "    </tr>\n",
       "    <tr>\n",
       "      <th>897</th>\n",
       "      <td>2025-07-28</td>\n",
       "      <td>EMP_030</td>\n",
       "      <td>30.733568</td>\n",
       "    </tr>\n",
       "    <tr>\n",
       "      <th>898</th>\n",
       "      <td>2025-07-29</td>\n",
       "      <td>EMP_030</td>\n",
       "      <td>36.032545</td>\n",
       "    </tr>\n",
       "    <tr>\n",
       "      <th>899</th>\n",
       "      <td>2025-07-30</td>\n",
       "      <td>EMP_030</td>\n",
       "      <td>25.915322</td>\n",
       "    </tr>\n",
       "  </tbody>\n",
       "</table>\n",
       "<p>900 rows × 3 columns</p>\n",
       "</div>"
      ],
      "text/plain": [
       "          Date employee  working_hours\n",
       "0   2025-07-01  EMP_001      32.483571\n",
       "1   2025-07-02  EMP_001      29.308678\n",
       "2   2025-07-03  EMP_001      33.238443\n",
       "3   2025-07-04  EMP_001      37.615149\n",
       "4   2025-07-05  EMP_001      28.829233\n",
       "..         ...      ...            ...\n",
       "895 2025-07-26  EMP_030      33.243549\n",
       "896 2025-07-27  EMP_030      29.164410\n",
       "897 2025-07-28  EMP_030      30.733568\n",
       "898 2025-07-29  EMP_030      36.032545\n",
       "899 2025-07-30  EMP_030      25.915322\n",
       "\n",
       "[900 rows x 3 columns]"
      ]
     },
     "execution_count": 68,
     "metadata": {},
     "output_type": "execute_result"
    }
   ],
   "source": [
    "df"
   ]
  },
  {
   "cell_type": "code",
   "execution_count": 69,
   "id": "9164f055-4622-4014-b8fc-000c9a247dfd",
   "metadata": {},
   "outputs": [],
   "source": [
    "df.to_csv(\"employee_working_hours.csv\",index=False)"
   ]
  },
  {
   "cell_type": "code",
   "execution_count": 70,
   "id": "f6e94a86-3b99-43be-b786-e1a6562a5b12",
   "metadata": {},
   "outputs": [],
   "source": [
    "df_csv = pd.read_csv(\"employee_working_hours.csv\")"
   ]
  },
  {
   "cell_type": "code",
   "execution_count": 71,
   "id": "570ed007-732c-40ef-8c70-5186af9918d4",
   "metadata": {},
   "outputs": [
    {
     "data": {
      "text/html": [
       "<div>\n",
       "<style scoped>\n",
       "    .dataframe tbody tr th:only-of-type {\n",
       "        vertical-align: middle;\n",
       "    }\n",
       "\n",
       "    .dataframe tbody tr th {\n",
       "        vertical-align: top;\n",
       "    }\n",
       "\n",
       "    .dataframe thead th {\n",
       "        text-align: right;\n",
       "    }\n",
       "</style>\n",
       "<table border=\"1\" class=\"dataframe\">\n",
       "  <thead>\n",
       "    <tr style=\"text-align: right;\">\n",
       "      <th></th>\n",
       "      <th>Date</th>\n",
       "      <th>employee</th>\n",
       "      <th>working_hours</th>\n",
       "    </tr>\n",
       "  </thead>\n",
       "  <tbody>\n",
       "    <tr>\n",
       "      <th>0</th>\n",
       "      <td>2025-07-01</td>\n",
       "      <td>EMP_001</td>\n",
       "      <td>32.483571</td>\n",
       "    </tr>\n",
       "    <tr>\n",
       "      <th>1</th>\n",
       "      <td>2025-07-02</td>\n",
       "      <td>EMP_001</td>\n",
       "      <td>29.308678</td>\n",
       "    </tr>\n",
       "    <tr>\n",
       "      <th>2</th>\n",
       "      <td>2025-07-03</td>\n",
       "      <td>EMP_001</td>\n",
       "      <td>33.238443</td>\n",
       "    </tr>\n",
       "    <tr>\n",
       "      <th>3</th>\n",
       "      <td>2025-07-04</td>\n",
       "      <td>EMP_001</td>\n",
       "      <td>37.615149</td>\n",
       "    </tr>\n",
       "    <tr>\n",
       "      <th>4</th>\n",
       "      <td>2025-07-05</td>\n",
       "      <td>EMP_001</td>\n",
       "      <td>28.829233</td>\n",
       "    </tr>\n",
       "    <tr>\n",
       "      <th>...</th>\n",
       "      <td>...</td>\n",
       "      <td>...</td>\n",
       "      <td>...</td>\n",
       "    </tr>\n",
       "    <tr>\n",
       "      <th>895</th>\n",
       "      <td>2025-07-26</td>\n",
       "      <td>EMP_030</td>\n",
       "      <td>33.243549</td>\n",
       "    </tr>\n",
       "    <tr>\n",
       "      <th>896</th>\n",
       "      <td>2025-07-27</td>\n",
       "      <td>EMP_030</td>\n",
       "      <td>29.164410</td>\n",
       "    </tr>\n",
       "    <tr>\n",
       "      <th>897</th>\n",
       "      <td>2025-07-28</td>\n",
       "      <td>EMP_030</td>\n",
       "      <td>30.733568</td>\n",
       "    </tr>\n",
       "    <tr>\n",
       "      <th>898</th>\n",
       "      <td>2025-07-29</td>\n",
       "      <td>EMP_030</td>\n",
       "      <td>36.032545</td>\n",
       "    </tr>\n",
       "    <tr>\n",
       "      <th>899</th>\n",
       "      <td>2025-07-30</td>\n",
       "      <td>EMP_030</td>\n",
       "      <td>25.915322</td>\n",
       "    </tr>\n",
       "  </tbody>\n",
       "</table>\n",
       "<p>900 rows × 3 columns</p>\n",
       "</div>"
      ],
      "text/plain": [
       "           Date employee  working_hours\n",
       "0    2025-07-01  EMP_001      32.483571\n",
       "1    2025-07-02  EMP_001      29.308678\n",
       "2    2025-07-03  EMP_001      33.238443\n",
       "3    2025-07-04  EMP_001      37.615149\n",
       "4    2025-07-05  EMP_001      28.829233\n",
       "..          ...      ...            ...\n",
       "895  2025-07-26  EMP_030      33.243549\n",
       "896  2025-07-27  EMP_030      29.164410\n",
       "897  2025-07-28  EMP_030      30.733568\n",
       "898  2025-07-29  EMP_030      36.032545\n",
       "899  2025-07-30  EMP_030      25.915322\n",
       "\n",
       "[900 rows x 3 columns]"
      ]
     },
     "execution_count": 71,
     "metadata": {},
     "output_type": "execute_result"
    }
   ],
   "source": [
    "df_csv"
   ]
  },
  {
   "cell_type": "code",
   "execution_count": 72,
   "id": "f6c647b3-8104-4bf4-a0ed-df530d1bc4db",
   "metadata": {},
   "outputs": [
    {
     "name": "stdout",
     "output_type": "stream",
     "text": [
      "         Date employee  working_hours\n",
      "0  2025-07-01  EMP_001      32.483571\n",
      "1  2025-07-02  EMP_001      29.308678\n",
      "2  2025-07-03  EMP_001      33.238443\n",
      "3  2025-07-04  EMP_001      37.615149\n",
      "4  2025-07-05  EMP_001      28.829233\n",
      "       working_hours\n",
      "count     900.000000\n",
      "mean       30.091926\n",
      "std         4.904530\n",
      "min        13.793663\n",
      "25%        26.745590\n",
      "50%        30.092131\n",
      "75%        33.246901\n",
      "max        49.263657\n",
      "30\n"
     ]
    }
   ],
   "source": [
    "print(df_csv.head())\n",
    "print(df_csv.describe())\n",
    "print(df_csv[\"employee\"].nunique())"
   ]
  },
  {
   "cell_type": "code",
   "execution_count": 73,
   "id": "a643fbdb-6556-4ece-b601-14428af86ec5",
   "metadata": {},
   "outputs": [
    {
     "name": "stdout",
     "output_type": "stream",
     "text": [
      "employee\n",
      "EMP_030    962.606134\n",
      "EMP_021    949.712002\n",
      "EMP_011    942.282391\n",
      "EMP_006    941.817993\n",
      "EMP_013    934.225898\n",
      "EMP_029    931.906799\n",
      "EMP_026    928.785713\n",
      "EMP_028    922.726849\n",
      "EMP_010    916.074819\n",
      "EMP_020    913.164300\n",
      "EMP_007    909.838848\n",
      "EMP_008    907.205434\n",
      "EMP_016    906.985293\n",
      "EMP_014    904.314773\n",
      "EMP_027    903.784449\n",
      "EMP_003    901.932716\n",
      "EMP_004    896.962256\n",
      "EMP_024    894.304245\n",
      "EMP_015    891.394231\n",
      "EMP_019    886.585246\n",
      "EMP_005    885.756283\n",
      "EMP_002    881.825629\n",
      "EMP_023    880.485134\n",
      "EMP_022    879.695120\n",
      "EMP_009    878.485218\n",
      "EMP_001    871.777966\n",
      "EMP_017    870.315585\n",
      "EMP_025    869.284734\n",
      "EMP_012    869.016727\n",
      "EMP_018    849.480581\n",
      "Name: working_hours, dtype: float64\n"
     ]
    }
   ],
   "source": [
    "total_hours = df_csv.groupby(\"employee\")[\"working_hours\"].sum().sort_values(ascending=False)\n",
    "print(total_hours)"
   ]
  },
  {
   "cell_type": "code",
   "execution_count": 74,
   "id": "df8d705e-c5da-47bd-920e-19b4d07f31e0",
   "metadata": {},
   "outputs": [],
   "source": [
    "avg_daily = df_csv.groupby(\"employee\")[\"working_hours\"].mean()"
   ]
  },
  {
   "cell_type": "code",
   "execution_count": 78,
   "id": "8ad4d6df-a380-4f57-b311-6db779dd89a1",
   "metadata": {},
   "outputs": [
    {
     "name": "stdout",
     "output_type": "stream",
     "text": [
      "         Date employee  working_hours  low_hours_flag  high_hours_flag\n",
      "0  2025-07-01  EMP_001      32.483571           False             True\n",
      "1  2025-07-02  EMP_001      29.308678           False             True\n",
      "2  2025-07-03  EMP_001      33.238443           False             True\n",
      "3  2025-07-04  EMP_001      37.615149           False             True\n",
      "4  2025-07-05  EMP_001      28.829233           False             True\n"
     ]
    }
   ],
   "source": [
    "threshold_low=5\n",
    "threshold_high=9\n",
    "df_csv[\"low_hours_flag\"] = df_csv[\"working_hours\"] < threshold_low\n",
    "df_csv[\"high_hours_flag\"] = df_csv[\"working_hours\"] > threshold_high\n",
    "\n",
    "print(df_csv[df_csv[\"low_hours_flag\"] | df_csv[\"high_hours_flag\"]].head())"
   ]
  },
  {
   "cell_type": "code",
   "execution_count": 79,
   "id": "507abccf-93a8-4268-bfb2-87f00bce3c7f",
   "metadata": {},
   "outputs": [
    {
     "data": {
      "image/png": "[encoded data removed]",
      "text/plain": [
       "<Figure size 1000x500 with 1 Axes>"
      ]
     },
     "metadata": {},
     "output_type": "display_data"
    }
   ],
   "source": [
    "import matplotlib.pyplot as plt\n",
    "import seaborn as sns\n",
    "\n",
    "top10 = total_hours.head(10)\n",
    "plt.figure(figsize=(10,5))\n",
    "sns.barplot(x=top10.index, y=top10.values)\n",
    "plt.xticks(rotation=45)\n",
    "plt.title(\"Top 10 employee by total working hours\")\n",
    "plt.ylabel(\"Hours\")\n",
    "plt.tight_layout()\n",
    "plt.show()"
   ]
  },
  {
   "cell_type": "code",
   "execution_count": null,
   "id": "db848bb0-0cfa-4b9d-b027-f8dfef7237de",
   "metadata": {},
   "outputs": [],
   "source": []
  }
 ],
 "metadata": {
  "kernelspec": {
   "display_name": "Python [conda env:base] *",
   "language": "python",
   "name": "conda-base-py"
  },
  "language_info": {
   "codemirror_mode": {
    "name": "ipython",
    "version": 3
   },
   "file_extension": ".py",
   "mimetype": "text/x-python",
   "name": "python",
   "nbconvert_exporter": "python",
   "pygments_lexer": "ipython3",
   "version": "3.13.5"
  }
 },
 "nbformat": 4,
 "nbformat_minor": 5
}
